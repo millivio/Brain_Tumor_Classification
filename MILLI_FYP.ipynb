{
  "nbformat": 4,
  "nbformat_minor": 0,
  "metadata": {
    "colab": {
      "name": "MILLI_FYP.ipynb",
      "provenance": [],
      "collapsed_sections": [],
      "include_colab_link": true
    },
    "kernelspec": {
      "display_name": "Python 3",
      "name": "python3"
    },
    "accelerator": "GPU"
  },
  "cells": [
    {
      "cell_type": "markdown",
      "metadata": {
        "id": "view-in-github",
        "colab_type": "text"
      },
      "source": [
        "<a href=\"https://colab.research.google.com/github/millivio/Brain_Tumor_Classification/blob/main/MILLI_FYP.ipynb\" target=\"_parent\"><img src=\"https://colab.research.google.com/assets/colab-badge.svg\" alt=\"Open In Colab\"/></a>"
      ]
    },
    {
      "cell_type": "code",
      "metadata": {
        "id": "zbsXlhZK4DzL"
      },
      "source": [
        ""
      ],
      "execution_count": null,
      "outputs": []
    },
    {
      "cell_type": "markdown",
      "metadata": {
        "id": "owTxwa0aBTyG"
      },
      "source": [
        "Mounting  Google Drive"
      ]
    },
    {
      "cell_type": "code",
      "metadata": {
        "colab": {
          "base_uri": "https://localhost:8080/"
        },
        "id": "acL_eT6O5XPA",
        "outputId": "0fa7245f-ecc6-4da6-8e60-27e7b80172d6"
      },
      "source": [
        "from google.colab import drive\n",
        "drive.mount('/content/drive/')"
      ],
      "execution_count": 1,
      "outputs": [
        {
          "output_type": "stream",
          "text": [
            "Drive already mounted at /content/drive/; to attempt to forcibly remount, call drive.mount(\"/content/drive/\", force_remount=True).\n"
          ],
          "name": "stdout"
        }
      ]
    },
    {
      "cell_type": "code",
      "metadata": {
        "id": "rDWrNEfZBRrq"
      },
      "source": [
        "import numpy as np\n",
        "from matplotlib import pyplot as plt\n",
        "import h5py\n",
        "import cv2\n",
        "from sklearn.utils import shuffle\n",
        "#from PIL import Image"
      ],
      "execution_count": 2,
      "outputs": []
    },
    {
      "cell_type": "code",
      "metadata": {
        "id": "SQ1IIA-mPOFE"
      },
      "source": [
        "Xtrain = np.ndarray(shape = (1864,512,512)) #1564 + 500 + 1000\n",
        "Ytrain = np.zeros(1864)\n",
        "Xtrain, Ytrain = shuffle(Xtrain, Ytrain)\n",
        "\n",
        "#Xval = np.ndarray(shape = (500,512,512)) #1564 + 500 + 1000\n",
        "#Yval = np.zeros(500)\n",
        "\n",
        "Xtest = np.ndarray(shape = (1200,512,512)) #1564 + 500 + 1000\n",
        "Ytest = np.zeros(1200)\n",
        "\n",
        "train_count = 0\n",
        "test_count= 0\n",
        "#val_count = 0"
      ],
      "execution_count": 3,
      "outputs": []
    },
    {
      "cell_type": "code",
      "metadata": {
        "id": "hdDW3JhZDUAc"
      },
      "source": [
        "i = 1\n",
        "while i <3065:   \n",
        "    if train_count < 1864:\n",
        "        if i < 767:\n",
        "          path = '/content/drive/MyDrive/TUMOR DATASET/tumor1.zip (Unzipped Files)/'\n",
        "        elif i < 1533:\n",
        "          path = '/content/drive/MyDrive/TUMOR DATASET/tumor3.zip (Unzipped Files)/'\n",
        "        elif i < 2299:\n",
        "          path = '/content/drive/MyDrive/TUMOR DATASET/tumor2.zip (Unzipped Files)/'\n",
        "        else:\n",
        "          path = '/content/drive/MyDrive/TUMOR DATASET/tumor4.zip (Unzipped Files)/'\n",
        "\n",
        "        f = h5py.File(path+str(i)+'.mat','r')\n",
        "        gr = f.get('cjdata')\n",
        "        im = np.array(gr.get('image'))\n",
        "        norm_image = cv2.normalize(im, None, alpha=0, beta=1, norm_type=cv2.NORM_MINMAX, dtype=cv2.CV_32F) #for normalizing the images of dataset\n",
        "        norm_image = cv2.resize(norm_image, (512,512), interpolation = cv2.INTER_AREA)\n",
        "        Xtrain[train_count] = np.array(norm_image)\n",
        "        Ytrain[train_count] = gr.get('label')[()]\n",
        "        train_count +=1\n",
        "        i+=1\n",
        "\n",
        "    if test_count < 1200:\n",
        "        if i < 767:\n",
        "          path = '/content/drive/MyDrive/TUMOR DATASET/tumor1.zip (Unzipped Files)/'\n",
        "        elif i < 1533:\n",
        "          path = '/content/drive/MyDrive/TUMOR DATASET/tumor3.zip (Unzipped Files)/'\n",
        "        elif i < 2299:\n",
        "          path = '/content/drive/MyDrive/TUMOR DATASET/tumor2.zip (Unzipped Files)/'\n",
        "        else:\n",
        "          path = '/content/drive/MyDrive/TUMOR DATASET/tumor4.zip (Unzipped Files)/'\n",
        "\n",
        "        f = h5py.File(path+str(i)+'.mat','r')\n",
        "        gr = f.get('cjdata')\n",
        "        im = np.array(gr.get('image'))\n",
        "        norm_image = cv2.normalize(im, None, alpha=0, beta=1, norm_type=cv2.NORM_MINMAX, dtype=cv2.CV_32F) #for normalizing the images of dataset\n",
        "        norm_image = cv2.resize(norm_image, (512,512), interpolation = cv2.INTER_AREA)\n",
        "\n",
        "        Xtest[test_count] = np.array(norm_image)\n",
        "        Ytest[test_count] = gr.get('label')[()]\n",
        "        test_count +=1\n",
        "        i+=1\n",
        "    #print(i)\n",
        "\n",
        "#    print(np.max(norm_image))\n",
        "#    plt.imshow(norm_image, cmap=\"gray\") \n",
        "#  plt.show()\n",
        "#    print((gr.get('label')[()])) #cjdata.label: 1 for meningioma, 2 for glioma, 3 for pituitary tumor"
      ],
      "execution_count": 4,
      "outputs": []
    },
    {
      "cell_type": "code",
      "metadata": {
        "id": "Fpnv1gstEC2O"
      },
      "source": [
        "#a,b,c = 0,0,0\n",
        "#for i in range(0,500):\n",
        "#  if Yval[i] == 1:\n",
        "#    a+=1\n",
        "#  elif Yval[i] == 2:\n",
        "#    b+=1\n",
        "#  elif Yval[i] == 3:\n",
        "#    c+=1\n",
        "#print(a,b,c)"
      ],
      "execution_count": 5,
      "outputs": []
    },
    {
      "cell_type": "code",
      "metadata": {
        "id": "Po40edYNNra9",
        "colab": {
          "base_uri": "https://localhost:8080/"
        },
        "outputId": "4f69c828-4d5a-4ba9-e661-0f86f82689f8"
      },
      "source": [
        "a,b,c = 0,0,0\n",
        "for i in range(0,1864):\n",
        "  if Ytrain[i] == 1:\n",
        "    a+=1\n",
        "  elif Ytrain[i] == 2:\n",
        "    b+=1\n",
        "  elif Ytrain[i] == 3:\n",
        "    c+=1\n",
        "print(a,b,c)"
      ],
      "execution_count": 6,
      "outputs": [
        {
          "output_type": "stream",
          "text": [
            "355 1044 465\n"
          ],
          "name": "stdout"
        }
      ]
    },
    {
      "cell_type": "code",
      "metadata": {
        "colab": {
          "base_uri": "https://localhost:8080/"
        },
        "id": "I4lCcHPqy_N1",
        "outputId": "194b9e0a-771a-4247-e61a-df07e4d00616"
      },
      "source": [
        "a,b,c = 0,0,0\n",
        "for i in range(0,1200):\n",
        "  if Ytest[i] == 1:\n",
        "    a+=1\n",
        "  elif Ytest[i] == 2:\n",
        "    b+=1\n",
        "  elif Ytest[i] == 3:\n",
        "    c+=1\n",
        "print(a,b,c)"
      ],
      "execution_count": 7,
      "outputs": [
        {
          "output_type": "stream",
          "text": [
            "353 382 465\n"
          ],
          "name": "stdout"
        }
      ]
    },
    {
      "cell_type": "markdown",
      "metadata": {
        "id": "_DwmTIRYD2Vg"
      },
      "source": [
        "Reshaping data"
      ]
    },
    {
      "cell_type": "code",
      "metadata": {
        "id": "7p0hNEkZD2sv"
      },
      "source": [
        "Xtrain = Xtrain.reshape(Xtrain.shape[0],512,512,1)\n",
        "#Xval = Xval.reshape(Xval.shape[0],512,512,1)\n",
        "Xtest = Xtest.reshape(Xtest.shape[0],512,512,1)\n",
        "\n",
        "Ytrain = Ytrain-1\n",
        "#Yval = Yval - 1\n",
        "Ytest = Ytest - 1\n",
        "\n",
        "#print(Yval.shape)"
      ],
      "execution_count": 8,
      "outputs": []
    },
    {
      "cell_type": "markdown",
      "metadata": {
        "id": "K8VhLSALD3NR"
      },
      "source": [
        "Importing Tensorflow"
      ]
    },
    {
      "cell_type": "code",
      "metadata": {
        "id": "z5Tzv14RFfu6"
      },
      "source": [
        "import tensorflow as tf"
      ],
      "execution_count": 9,
      "outputs": []
    },
    {
      "cell_type": "code",
      "metadata": {
        "id": "wJkd2KBKzOjr"
      },
      "source": [
        "\n",
        "# build a sequential model\n",
        "\n",
        "\n",
        "cnnmodel = tf.keras.Sequential([\n",
        "      tf.keras.layers.Conv2D(32,(3,3),input_shape=(512,512,1),activation='relu'),\n",
        "      tf.keras.layers.MaxPooling2D((2,2)),\n",
        "\n",
        "      tf.keras.layers.Conv2D(64,(3,3),activation='relu'),\n",
        "      tf.keras.layers.MaxPooling2D((2,2)),\n",
        "      tf.keras.layers.BatchNormalization(),\n",
        "\n",
        "      tf.keras.layers.Conv2D(128,(3,3),activation='relu'),\n",
        "      tf.keras.layers.MaxPooling2D((2,2)),\n",
        "      tf.keras.layers.BatchNormalization(),\n",
        "\n",
        "      tf.keras.layers.Conv2D(256,(3,3),activation='relu'),\n",
        "      tf.keras.layers.MaxPooling2D((2,2)),\n",
        "      tf.keras.layers.BatchNormalization(),\n",
        "\n",
        "     # tf.keras.layers.Conv2D(512,(3,3),activation='relu'),\n",
        "     # tf.keras.layers.MaxPooling2D((2,2)),\n",
        "     # tf.keras.layers.BatchNormalization(),\n",
        "\n",
        "      tf.keras.layers.Flatten(),\n",
        "\n",
        "      tf.keras.layers.Dense(1000, activation='relu'),\n",
        "      #tf.keras.layers.Dropout(0.2),\n",
        "\n",
        "      tf.keras.layers.Dense(500, activation='relu'),\n",
        "      \n",
        "      tf.keras.layers.Dense(100, activation='relu'),\n",
        "#      tf.keras.layers.Dropout(0.1),\n",
        "\n",
        "      tf.keras.layers.Dense(3, activation='softmax')\n",
        "\n",
        "])"
      ],
      "execution_count": 10,
      "outputs": []
    },
    {
      "cell_type": "code",
      "metadata": {
        "id": "Dwua5rcTLGx4",
        "colab": {
          "base_uri": "https://localhost:8080/"
        },
        "outputId": "ce661708-2a4a-4641-9f48-f2121697460a"
      },
      "source": [
        "#0 for meningioma, 1 for glioma, 2 for pituitary tumor\n",
        "cn = ['meningioma','glioma', 'pituitary']\n",
        "cnnmodel.summary()"
      ],
      "execution_count": 11,
      "outputs": [
        {
          "output_type": "stream",
          "text": [
            "Model: \"sequential\"\n",
            "_________________________________________________________________\n",
            "Layer (type)                 Output Shape              Param #   \n",
            "=================================================================\n",
            "conv2d (Conv2D)              (None, 510, 510, 32)      320       \n",
            "_________________________________________________________________\n",
            "max_pooling2d (MaxPooling2D) (None, 255, 255, 32)      0         \n",
            "_________________________________________________________________\n",
            "conv2d_1 (Conv2D)            (None, 253, 253, 64)      18496     \n",
            "_________________________________________________________________\n",
            "max_pooling2d_1 (MaxPooling2 (None, 126, 126, 64)      0         \n",
            "_________________________________________________________________\n",
            "batch_normalization (BatchNo (None, 126, 126, 64)      256       \n",
            "_________________________________________________________________\n",
            "conv2d_2 (Conv2D)            (None, 124, 124, 128)     73856     \n",
            "_________________________________________________________________\n",
            "max_pooling2d_2 (MaxPooling2 (None, 62, 62, 128)       0         \n",
            "_________________________________________________________________\n",
            "batch_normalization_1 (Batch (None, 62, 62, 128)       512       \n",
            "_________________________________________________________________\n",
            "conv2d_3 (Conv2D)            (None, 60, 60, 256)       295168    \n",
            "_________________________________________________________________\n",
            "max_pooling2d_3 (MaxPooling2 (None, 30, 30, 256)       0         \n",
            "_________________________________________________________________\n",
            "batch_normalization_2 (Batch (None, 30, 30, 256)       1024      \n",
            "_________________________________________________________________\n",
            "flatten (Flatten)            (None, 230400)            0         \n",
            "_________________________________________________________________\n",
            "dense (Dense)                (None, 1000)              230401000 \n",
            "_________________________________________________________________\n",
            "dense_1 (Dense)              (None, 500)               500500    \n",
            "_________________________________________________________________\n",
            "dense_2 (Dense)              (None, 100)               50100     \n",
            "_________________________________________________________________\n",
            "dense_3 (Dense)              (None, 3)                 303       \n",
            "=================================================================\n",
            "Total params: 231,341,535\n",
            "Trainable params: 231,340,639\n",
            "Non-trainable params: 896\n",
            "_________________________________________________________________\n"
          ],
          "name": "stdout"
        }
      ]
    },
    {
      "cell_type": "markdown",
      "metadata": {
        "id": "hL03GTH97H3a"
      },
      "source": [
        ""
      ]
    },
    {
      "cell_type": "code",
      "metadata": {
        "colab": {
          "base_uri": "https://localhost:8080/"
        },
        "id": "RM_Gyq620Alb",
        "outputId": "af64a9e6-307c-4ec9-f186-6b25cf091c66"
      },
      "source": [
        "# compile model\n",
        "cnnmodel.compile(loss='categorical_crossentropy', optimizer=\"adam\", metrics=['accuracy'])\n",
        "# fit on data for 30 epochs\n",
        "cnnmodel.fit(Xtrain, tf.keras.utils.to_categorical(Ytrain),epochs=20)"
      ],
      "execution_count": 12,
      "outputs": [
        {
          "output_type": "stream",
          "text": [
            "Epoch 1/20\n",
            " 2/59 [>.............................] - ETA: 17s - loss: 69.1483 - accuracy: 0.6094WARNING:tensorflow:Callbacks method `on_train_batch_end` is slow compared to the batch time (batch time: 0.1994s vs `on_train_batch_end` time: 0.4039s). Check your callbacks.\n",
            "59/59 [==============================] - 36s 606ms/step - loss: 11.3333 - accuracy: 0.6690\n",
            "Epoch 2/20\n",
            "59/59 [==============================] - 35s 598ms/step - loss: 2.5184 - accuracy: 0.7935\n",
            "Epoch 3/20\n",
            "59/59 [==============================] - 35s 598ms/step - loss: 0.9490 - accuracy: 0.8267\n",
            "Epoch 4/20\n",
            "59/59 [==============================] - 35s 597ms/step - loss: 0.5832 - accuracy: 0.8707\n",
            "Epoch 5/20\n",
            "59/59 [==============================] - 35s 597ms/step - loss: 0.3946 - accuracy: 0.8879\n",
            "Epoch 6/20\n",
            "59/59 [==============================] - 35s 596ms/step - loss: 0.2912 - accuracy: 0.9067\n",
            "Epoch 7/20\n",
            "59/59 [==============================] - 35s 597ms/step - loss: 0.2312 - accuracy: 0.9233\n",
            "Epoch 8/20\n",
            "59/59 [==============================] - 35s 598ms/step - loss: 0.3454 - accuracy: 0.9024\n",
            "Epoch 9/20\n",
            "59/59 [==============================] - 35s 597ms/step - loss: 0.1857 - accuracy: 0.9431\n",
            "Epoch 10/20\n",
            "59/59 [==============================] - 35s 599ms/step - loss: 0.2572 - accuracy: 0.9415\n",
            "Epoch 11/20\n",
            "59/59 [==============================] - 35s 600ms/step - loss: 0.1619 - accuracy: 0.9523\n",
            "Epoch 12/20\n",
            "59/59 [==============================] - 35s 598ms/step - loss: 0.1629 - accuracy: 0.9571\n",
            "Epoch 13/20\n",
            "59/59 [==============================] - 35s 601ms/step - loss: 0.0381 - accuracy: 0.9877\n",
            "Epoch 14/20\n",
            "59/59 [==============================] - 35s 602ms/step - loss: 0.0899 - accuracy: 0.9812\n",
            "Epoch 15/20\n",
            "59/59 [==============================] - 35s 602ms/step - loss: 0.0580 - accuracy: 0.9844\n",
            "Epoch 16/20\n",
            "59/59 [==============================] - 36s 602ms/step - loss: 0.0464 - accuracy: 0.9850\n",
            "Epoch 17/20\n",
            "59/59 [==============================] - 36s 602ms/step - loss: 0.0885 - accuracy: 0.9732\n",
            "Epoch 18/20\n",
            "59/59 [==============================] - 36s 602ms/step - loss: 0.0333 - accuracy: 0.9898\n",
            "Epoch 19/20\n",
            "59/59 [==============================] - 35s 601ms/step - loss: 0.0153 - accuracy: 0.9968\n",
            "Epoch 20/20\n",
            "59/59 [==============================] - 35s 601ms/step - loss: 0.0274 - accuracy: 0.9946\n"
          ],
          "name": "stdout"
        },
        {
          "output_type": "execute_result",
          "data": {
            "text/plain": [
              "<tensorflow.python.keras.callbacks.History at 0x7f58defe4be0>"
            ]
          },
          "metadata": {
            "tags": []
          },
          "execution_count": 12
        }
      ]
    },
    {
      "cell_type": "code",
      "metadata": {
        "id": "SyvgpNj8Pub7",
        "colab": {
          "base_uri": "https://localhost:8080/"
        },
        "outputId": "841a8a27-cc22-412d-a3f2-7c3c50590d2d"
      },
      "source": [
        "tf.keras.utils.to_categorical(Ytrain).shape"
      ],
      "execution_count": 13,
      "outputs": [
        {
          "output_type": "execute_result",
          "data": {
            "text/plain": [
              "(1864, 3)"
            ]
          },
          "metadata": {
            "tags": []
          },
          "execution_count": 13
        }
      ]
    },
    {
      "cell_type": "code",
      "metadata": {
        "id": "KHPFBPnfRWtg",
        "colab": {
          "base_uri": "https://localhost:8080/"
        },
        "outputId": "59476979-1a68-4d02-efdb-f64da09f6948"
      },
      "source": [
        "np.unique(Ytrain)"
      ],
      "execution_count": 14,
      "outputs": [
        {
          "output_type": "execute_result",
          "data": {
            "text/plain": [
              "array([0., 1., 2.])"
            ]
          },
          "metadata": {
            "tags": []
          },
          "execution_count": 14
        }
      ]
    },
    {
      "cell_type": "code",
      "metadata": {
        "id": "Fbz3fxbmRlhR"
      },
      "source": [
        "#del Xtrain, Ytrain\n",
        "y_pred = cnnmodel.predict(Xtest)"
      ],
      "execution_count": 15,
      "outputs": []
    },
    {
      "cell_type": "code",
      "metadata": {
        "id": "Ekveg1O1WjyR"
      },
      "source": [
        "\n",
        "prediction = tf.math.argmax(y_pred, axis=1)\n",
        "equality = tf.math.equal(prediction, Ytest)\n",
        "accuracy = tf.math.reduce_mean(tf.cast(equality, tf.float32))"
      ],
      "execution_count": 16,
      "outputs": []
    },
    {
      "cell_type": "code",
      "metadata": {
        "id": "BGSQVSxqWt2Z",
        "colab": {
          "base_uri": "https://localhost:8080/"
        },
        "outputId": "49c83a6a-1250-4ab1-c06c-708fd4b9e411"
      },
      "source": [
        "print(accuracy)"
      ],
      "execution_count": 17,
      "outputs": [
        {
          "output_type": "stream",
          "text": [
            "tf.Tensor(0.95666665, shape=(), dtype=float32)\n"
          ],
          "name": "stdout"
        }
      ]
    },
    {
      "cell_type": "code",
      "metadata": {
        "id": "WjQ2ZqRyYMQA",
        "colab": {
          "base_uri": "https://localhost:8080/",
          "height": 35
        },
        "outputId": "2e623135-fc5a-47ec-dbbf-474425ae0292"
      },
      "source": [
        "cn[np.argmax(y_pred[140])]"
      ],
      "execution_count": 18,
      "outputs": [
        {
          "output_type": "execute_result",
          "data": {
            "application/vnd.google.colaboratory.intrinsic+json": {
              "type": "string"
            },
            "text/plain": [
              "'meningioma'"
            ]
          },
          "metadata": {
            "tags": []
          },
          "execution_count": 18
        }
      ]
    },
    {
      "cell_type": "code",
      "metadata": {
        "id": "OI5r1sKYpcu2"
      },
      "source": [
        ""
      ],
      "execution_count": 18,
      "outputs": []
    }
  ]
}